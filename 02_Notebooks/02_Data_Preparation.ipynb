{
 "cells": [
  {
   "cell_type": "markdown",
   "id": "b5ec5f41",
   "metadata": {},
   "source": [
    "1. Memuat Data dan Library yang Diperlukan"
   ]
  },
  {
   "cell_type": "code",
   "execution_count": 1,
   "id": "82aeb270",
   "metadata": {},
   "outputs": [],
   "source": [
    "import pandas as pd\n",
    "import numpy as np\n",
    "import matplotlib.pyplot as plt\n",
    "import seaborn as sns\n",
    "from sklearn.preprocessing import StandardScaler\n",
    "from sklearn.model_selection import train_test_split"
   ]
  },
  {
   "cell_type": "code",
   "execution_count": 2,
   "id": "98b99948",
   "metadata": {},
   "outputs": [],
   "source": [
    "df = pd.read_csv('../01_Data/data_california_house.csv')"
   ]
  },
  {
   "cell_type": "markdown",
   "id": "86b34c7a",
   "metadata": {},
   "source": [
    "2. Penanganan Missing Values"
   ]
  },
  {
   "cell_type": "code",
   "execution_count": 3,
   "id": "ed24f366",
   "metadata": {},
   "outputs": [
    {
     "name": "stderr",
     "output_type": "stream",
     "text": [
      "d:\\PurwadhikaBackup\\capstoneproject\\modultiga\\california_housing_price_prediction\\venv\\Lib\\site-packages\\numpy\\lib\\_nanfunctions_impl.py:1215: RuntimeWarning: Mean of empty slice\n",
      "  return np.nanmean(a, axis, out=out, keepdims=keepdims)\n",
      "d:\\PurwadhikaBackup\\capstoneproject\\modultiga\\california_housing_price_prediction\\venv\\Lib\\site-packages\\numpy\\lib\\_nanfunctions_impl.py:1215: RuntimeWarning: Mean of empty slice\n",
      "  return np.nanmean(a, axis, out=out, keepdims=keepdims)\n",
      "d:\\PurwadhikaBackup\\capstoneproject\\modultiga\\california_housing_price_prediction\\venv\\Lib\\site-packages\\numpy\\lib\\_nanfunctions_impl.py:1215: RuntimeWarning: Mean of empty slice\n",
      "  return np.nanmean(a, axis, out=out, keepdims=keepdims)\n",
      "d:\\PurwadhikaBackup\\capstoneproject\\modultiga\\california_housing_price_prediction\\venv\\Lib\\site-packages\\numpy\\lib\\_nanfunctions_impl.py:1215: RuntimeWarning: Mean of empty slice\n",
      "  return np.nanmean(a, axis, out=out, keepdims=keepdims)\n",
      "d:\\PurwadhikaBackup\\capstoneproject\\modultiga\\california_housing_price_prediction\\venv\\Lib\\site-packages\\numpy\\lib\\_nanfunctions_impl.py:1215: RuntimeWarning: Mean of empty slice\n",
      "  return np.nanmean(a, axis, out=out, keepdims=keepdims)\n",
      "d:\\PurwadhikaBackup\\capstoneproject\\modultiga\\california_housing_price_prediction\\venv\\Lib\\site-packages\\numpy\\lib\\_nanfunctions_impl.py:1215: RuntimeWarning: Mean of empty slice\n",
      "  return np.nanmean(a, axis, out=out, keepdims=keepdims)\n",
      "d:\\PurwadhikaBackup\\capstoneproject\\modultiga\\california_housing_price_prediction\\venv\\Lib\\site-packages\\numpy\\lib\\_nanfunctions_impl.py:1215: RuntimeWarning: Mean of empty slice\n",
      "  return np.nanmean(a, axis, out=out, keepdims=keepdims)\n",
      "d:\\PurwadhikaBackup\\capstoneproject\\modultiga\\california_housing_price_prediction\\venv\\Lib\\site-packages\\numpy\\lib\\_nanfunctions_impl.py:1215: RuntimeWarning: Mean of empty slice\n",
      "  return np.nanmean(a, axis, out=out, keepdims=keepdims)\n",
      "d:\\PurwadhikaBackup\\capstoneproject\\modultiga\\california_housing_price_prediction\\venv\\Lib\\site-packages\\numpy\\lib\\_nanfunctions_impl.py:1215: RuntimeWarning: Mean of empty slice\n",
      "  return np.nanmean(a, axis, out=out, keepdims=keepdims)\n",
      "d:\\PurwadhikaBackup\\capstoneproject\\modultiga\\california_housing_price_prediction\\venv\\Lib\\site-packages\\numpy\\lib\\_nanfunctions_impl.py:1215: RuntimeWarning: Mean of empty slice\n",
      "  return np.nanmean(a, axis, out=out, keepdims=keepdims)\n",
      "d:\\PurwadhikaBackup\\capstoneproject\\modultiga\\california_housing_price_prediction\\venv\\Lib\\site-packages\\numpy\\lib\\_nanfunctions_impl.py:1215: RuntimeWarning: Mean of empty slice\n",
      "  return np.nanmean(a, axis, out=out, keepdims=keepdims)\n",
      "d:\\PurwadhikaBackup\\capstoneproject\\modultiga\\california_housing_price_prediction\\venv\\Lib\\site-packages\\numpy\\lib\\_nanfunctions_impl.py:1215: RuntimeWarning: Mean of empty slice\n",
      "  return np.nanmean(a, axis, out=out, keepdims=keepdims)\n",
      "d:\\PurwadhikaBackup\\capstoneproject\\modultiga\\california_housing_price_prediction\\venv\\Lib\\site-packages\\numpy\\lib\\_nanfunctions_impl.py:1215: RuntimeWarning: Mean of empty slice\n",
      "  return np.nanmean(a, axis, out=out, keepdims=keepdims)\n",
      "d:\\PurwadhikaBackup\\capstoneproject\\modultiga\\california_housing_price_prediction\\venv\\Lib\\site-packages\\numpy\\lib\\_nanfunctions_impl.py:1215: RuntimeWarning: Mean of empty slice\n",
      "  return np.nanmean(a, axis, out=out, keepdims=keepdims)\n",
      "C:\\Users\\mirur\\AppData\\Local\\Temp\\ipykernel_22488\\1998438846.py:6: FutureWarning: A value is trying to be set on a copy of a DataFrame or Series through chained assignment using an inplace method.\n",
      "The behavior will change in pandas 3.0. This inplace method will never work because the intermediate object on which we are setting values always behaves as a copy.\n",
      "\n",
      "For example, when doing 'df[col].method(value, inplace=True)', try using 'df.method({col: value}, inplace=True)' or df[col] = df[col].method(value) instead, to perform the operation inplace on the original object.\n",
      "\n",
      "\n",
      "  df['total_bedrooms'].fillna(df['total_bedrooms'].median(), inplace=True)\n"
     ]
    }
   ],
   "source": [
    "# Untuk kolom total_bedrooms yang memiliki missing values\n",
    "# Kita bisa isi dengan median berdasarkan kelompok rumah dengan jumlah kamar yang sama\n",
    "df['total_bedrooms'] = df.groupby('total_rooms')['total_bedrooms'].transform(lambda x: x.fillna(x.median()))\n",
    "\n",
    "# Jika masih ada missing values, isi dengan median keseluruhan\n",
    "df['total_bedrooms'].fillna(df['total_bedrooms'].median(), inplace=True)"
   ]
  },
  {
   "cell_type": "code",
   "execution_count": 4,
   "id": "f7499961",
   "metadata": {},
   "outputs": [],
   "source": [
    "# Replace 'ISLAND' with 'NEAR OCEAN' (or another suitable category) karna ISLAND kategori hanya memiliki 2 data\n",
    "df['ocean_proximity'] = df['ocean_proximity'].replace('ISLAND', 'NEAR OCEAN')"
   ]
  },
  {
   "cell_type": "code",
   "execution_count": 5,
   "id": "fbd3ec62",
   "metadata": {},
   "outputs": [],
   "source": [
    "# Save Data\n",
    "df.to_csv('../01_Data/data_california_house_prepared.csv', index=False)"
   ]
  }
 ],
 "metadata": {
  "kernelspec": {
   "display_name": "venv",
   "language": "python",
   "name": "python3"
  },
  "language_info": {
   "codemirror_mode": {
    "name": "ipython",
    "version": 3
   },
   "file_extension": ".py",
   "mimetype": "text/x-python",
   "name": "python",
   "nbconvert_exporter": "python",
   "pygments_lexer": "ipython3",
   "version": "3.12.7"
  }
 },
 "nbformat": 4,
 "nbformat_minor": 5
}
