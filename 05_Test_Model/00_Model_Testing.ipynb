{
 "cells": [
  {
   "cell_type": "code",
   "execution_count": 9,
   "id": "3f3b9b14",
   "metadata": {},
   "outputs": [],
   "source": [
    "import joblib\n",
    "import pandas as pd\n",
    "import numpy as np\n",
    "\n",
    "data = {\n",
    "    'longitude': [-118.25, -122.25, -119.53, -117.15, -121.32, -118.39, -122.41, -117.07, -119.78, -122.27],\n",
    "    'latitude': [34.05, 37.85, 36.33, 32.72, 38.71, 33.84, 37.77, 32.63, 36.74, 37.93],\n",
    "    'housing_median_age': [32, 45, 18, 12, 29, 22, 38, 15, 27, 40],\n",
    "    'total_rooms': [2500, 1800, 3200, 1500, 2800, 2100, 1900, 1700, 2400, 2000],\n",
    "    'total_bedrooms': [550, 380, 700, 300, 620, 450, 400, 350, 500, 420],\n",
    "    'population': [1250, 820, 1500, 600, 1350, 950, 880, 720, 1100, 900],\n",
    "    'households': [480, 350, 620, 250, 580, 420, 380, 300, 450, 390],\n",
    "    'median_income': [4.25, 6.80, 3.50, 2.90, 5.20, 4.75, 7.10, 3.20, 4.90, 6.50],\n",
    "    'ocean_proximity': ['NEAR BAY', 'NEAR OCEAN', 'INLAND', '<1H OCEAN', 'INLAND', 'NEAR BAY', 'NEAR OCEAN', '<1H OCEAN', 'INLAND', 'NEAR OCEAN'],\n",
    "    'median_house_value': [np.nan, np.nan, np.nan, np.nan, np.nan, np.nan, np.nan, np.nan, np.nan, np.nan]\n",
    "}\n",
    "\n",
    "\n",
    "# Load model\n",
    "loaded_model_1 = joblib.load('../03_Model/03_best_model.pkl')\n",
    "loaded_model_2 = joblib.load('../03_Model/03A_best_model.pkl')\n",
    "loaded_model_3 = joblib.load('../03_Model/03B_best_model.pkl')\n",
    "\n",
    "# Baca data baru\n",
    "new_data = pd.DataFrame(data)\n",
    "\n",
    "X_new = new_data.drop('median_house_value', axis=1)\n",
    "\n",
    "X_new_fe = new_data.drop('median_house_value', axis=1)\n",
    "# Create new features\n",
    "X_new_fe['rooms_per_household'] = X_new_fe['total_rooms'] / X_new_fe['households']\n",
    "X_new_fe['bedrooms_per_room'] = X_new_fe['total_bedrooms'] / X_new_fe['total_rooms']\n",
    "X_new_fe['population_per_household'] = X_new_fe['population'] / X_new_fe['households']\n",
    "# Prediksi\n",
    "prediksi_1 = loaded_model_1.predict(X_new)\n",
    "prediksi_2 = loaded_model_2.predict(X_new_fe)\n",
    "prediksi_3 = loaded_model_3.predict(X_new_fe)\n",
    "\n",
    "# Tambahkan hasil prediksi ke data\n",
    "new_data['predicted_1'] = prediksi_1\n",
    "new_data['predicted_2'] = prediksi_2\n",
    "new_data['predicted_3'] = prediksi_3\n",
    "new_data.to_csv('../01_Data/new_data_with_predictions.csv', index=False)"
   ]
  },
  {
   "cell_type": "code",
   "execution_count": 10,
   "id": "fb95ec34",
   "metadata": {},
   "outputs": [],
   "source": [
    "check_predicted = pd.read_csv('../01_Data/new_data_with_predictions.csv')"
   ]
  },
  {
   "cell_type": "code",
   "execution_count": 13,
   "id": "8da67ea5",
   "metadata": {},
   "outputs": [
    {
     "data": {
      "application/vnd.microsoft.datawrangler.viewer.v0+json": {
       "columns": [
        {
         "name": "index",
         "rawType": "int64",
         "type": "integer"
        },
        {
         "name": "predicted_1",
         "rawType": "float64",
         "type": "float"
        },
        {
         "name": "predicted_2",
         "rawType": "float64",
         "type": "float"
        },
        {
         "name": "predicted_3",
         "rawType": "float64",
         "type": "float"
        }
       ],
       "conversionMethod": "pd.DataFrame",
       "ref": "2757f185-afef-41e7-947f-2e88477797c0",
       "rows": [
        [
         "0",
         "296774.94",
         "278099.56",
         "252864.02"
        ],
        [
         "1",
         "387590.3",
         "334910.44",
         "343231.25"
        ],
        [
         "2",
         "86604.42",
         "93616.72",
         "104096.05"
        ],
        [
         "3",
         "211951.48",
         "193651.08",
         "182309.25"
        ],
        [
         "4",
         "188697.88",
         "202791.12",
         "196674.83"
        ],
        [
         "5",
         "408605.84",
         "429479.22",
         "359828.66"
        ],
        [
         "6",
         "454781.16",
         "456943.8",
         "397674.8"
        ],
        [
         "7",
         "148622.22",
         "195763.28",
         "184462.52"
        ],
        [
         "8",
         "142264.08",
         "117967.85",
         "157075.17"
        ],
        [
         "9",
         "399224.25",
         "312730.44",
         "347295.66"
        ]
       ],
       "shape": {
        "columns": 3,
        "rows": 10
       }
      },
      "text/html": [
       "<div>\n",
       "<style scoped>\n",
       "    .dataframe tbody tr th:only-of-type {\n",
       "        vertical-align: middle;\n",
       "    }\n",
       "\n",
       "    .dataframe tbody tr th {\n",
       "        vertical-align: top;\n",
       "    }\n",
       "\n",
       "    .dataframe thead th {\n",
       "        text-align: right;\n",
       "    }\n",
       "</style>\n",
       "<table border=\"1\" class=\"dataframe\">\n",
       "  <thead>\n",
       "    <tr style=\"text-align: right;\">\n",
       "      <th></th>\n",
       "      <th>predicted_1</th>\n",
       "      <th>predicted_2</th>\n",
       "      <th>predicted_3</th>\n",
       "    </tr>\n",
       "  </thead>\n",
       "  <tbody>\n",
       "    <tr>\n",
       "      <th>0</th>\n",
       "      <td>296774.94</td>\n",
       "      <td>278099.56</td>\n",
       "      <td>252864.02</td>\n",
       "    </tr>\n",
       "    <tr>\n",
       "      <th>1</th>\n",
       "      <td>387590.30</td>\n",
       "      <td>334910.44</td>\n",
       "      <td>343231.25</td>\n",
       "    </tr>\n",
       "    <tr>\n",
       "      <th>2</th>\n",
       "      <td>86604.42</td>\n",
       "      <td>93616.72</td>\n",
       "      <td>104096.05</td>\n",
       "    </tr>\n",
       "    <tr>\n",
       "      <th>3</th>\n",
       "      <td>211951.48</td>\n",
       "      <td>193651.08</td>\n",
       "      <td>182309.25</td>\n",
       "    </tr>\n",
       "    <tr>\n",
       "      <th>4</th>\n",
       "      <td>188697.88</td>\n",
       "      <td>202791.12</td>\n",
       "      <td>196674.83</td>\n",
       "    </tr>\n",
       "    <tr>\n",
       "      <th>5</th>\n",
       "      <td>408605.84</td>\n",
       "      <td>429479.22</td>\n",
       "      <td>359828.66</td>\n",
       "    </tr>\n",
       "    <tr>\n",
       "      <th>6</th>\n",
       "      <td>454781.16</td>\n",
       "      <td>456943.80</td>\n",
       "      <td>397674.80</td>\n",
       "    </tr>\n",
       "    <tr>\n",
       "      <th>7</th>\n",
       "      <td>148622.22</td>\n",
       "      <td>195763.28</td>\n",
       "      <td>184462.52</td>\n",
       "    </tr>\n",
       "    <tr>\n",
       "      <th>8</th>\n",
       "      <td>142264.08</td>\n",
       "      <td>117967.85</td>\n",
       "      <td>157075.17</td>\n",
       "    </tr>\n",
       "    <tr>\n",
       "      <th>9</th>\n",
       "      <td>399224.25</td>\n",
       "      <td>312730.44</td>\n",
       "      <td>347295.66</td>\n",
       "    </tr>\n",
       "  </tbody>\n",
       "</table>\n",
       "</div>"
      ],
      "text/plain": [
       "   predicted_1  predicted_2  predicted_3\n",
       "0    296774.94    278099.56    252864.02\n",
       "1    387590.30    334910.44    343231.25\n",
       "2     86604.42     93616.72    104096.05\n",
       "3    211951.48    193651.08    182309.25\n",
       "4    188697.88    202791.12    196674.83\n",
       "5    408605.84    429479.22    359828.66\n",
       "6    454781.16    456943.80    397674.80\n",
       "7    148622.22    195763.28    184462.52\n",
       "8    142264.08    117967.85    157075.17\n",
       "9    399224.25    312730.44    347295.66"
      ]
     },
     "execution_count": 13,
     "metadata": {},
     "output_type": "execute_result"
    }
   ],
   "source": [
    "check_predicted[['predicted_1','predicted_2','predicted_3']]"
   ]
  }
 ],
 "metadata": {
  "kernelspec": {
   "display_name": "venv",
   "language": "python",
   "name": "python3"
  },
  "language_info": {
   "codemirror_mode": {
    "name": "ipython",
    "version": 3
   },
   "file_extension": ".py",
   "mimetype": "text/x-python",
   "name": "python",
   "nbconvert_exporter": "python",
   "pygments_lexer": "ipython3",
   "version": "3.12.7"
  }
 },
 "nbformat": 4,
 "nbformat_minor": 5
}
