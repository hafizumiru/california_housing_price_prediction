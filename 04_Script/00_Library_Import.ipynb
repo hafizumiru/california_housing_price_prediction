{
 "cells": [
  {
   "cell_type": "code",
   "execution_count": 1,
   "id": "4323fc5f",
   "metadata": {},
   "outputs": [
    {
     "name": "stdout",
     "output_type": "stream",
     "text": [
      "Requirement already satisfied: pandas in d:\\purwadhikabackup\\capstoneproject\\modultiga\\california_housing_price_prediction\\venv\\lib\\site-packages (2.2.3)\n",
      "Requirement already satisfied: numpy in d:\\purwadhikabackup\\capstoneproject\\modultiga\\california_housing_price_prediction\\venv\\lib\\site-packages (2.2.5)\n",
      "Requirement already satisfied: matplotlib in d:\\purwadhikabackup\\capstoneproject\\modultiga\\california_housing_price_prediction\\venv\\lib\\site-packages (3.10.3)\n",
      "Requirement already satisfied: seaborn in d:\\purwadhikabackup\\capstoneproject\\modultiga\\california_housing_price_prediction\\venv\\lib\\site-packages (0.13.2)\n",
      "Requirement already satisfied: scikit-learn in d:\\purwadhikabackup\\capstoneproject\\modultiga\\california_housing_price_prediction\\venv\\lib\\site-packages (1.6.1)\n",
      "Requirement already satisfied: xgboost in d:\\purwadhikabackup\\capstoneproject\\modultiga\\california_housing_price_prediction\\venv\\lib\\site-packages (3.0.0)\n",
      "Requirement already satisfied: joblib in d:\\purwadhikabackup\\capstoneproject\\modultiga\\california_housing_price_prediction\\venv\\lib\\site-packages (1.5.0)\n",
      "Requirement already satisfied: python-dateutil>=2.8.2 in d:\\purwadhikabackup\\capstoneproject\\modultiga\\california_housing_price_prediction\\venv\\lib\\site-packages (from pandas) (2.9.0.post0)\n",
      "Requirement already satisfied: pytz>=2020.1 in d:\\purwadhikabackup\\capstoneproject\\modultiga\\california_housing_price_prediction\\venv\\lib\\site-packages (from pandas) (2025.2)\n",
      "Requirement already satisfied: tzdata>=2022.7 in d:\\purwadhikabackup\\capstoneproject\\modultiga\\california_housing_price_prediction\\venv\\lib\\site-packages (from pandas) (2025.2)\n",
      "Requirement already satisfied: contourpy>=1.0.1 in d:\\purwadhikabackup\\capstoneproject\\modultiga\\california_housing_price_prediction\\venv\\lib\\site-packages (from matplotlib) (1.3.2)\n",
      "Requirement already satisfied: cycler>=0.10 in d:\\purwadhikabackup\\capstoneproject\\modultiga\\california_housing_price_prediction\\venv\\lib\\site-packages (from matplotlib) (0.12.1)\n",
      "Requirement already satisfied: fonttools>=4.22.0 in d:\\purwadhikabackup\\capstoneproject\\modultiga\\california_housing_price_prediction\\venv\\lib\\site-packages (from matplotlib) (4.58.0)\n",
      "Requirement already satisfied: kiwisolver>=1.3.1 in d:\\purwadhikabackup\\capstoneproject\\modultiga\\california_housing_price_prediction\\venv\\lib\\site-packages (from matplotlib) (1.4.8)\n",
      "Requirement already satisfied: packaging>=20.0 in d:\\purwadhikabackup\\capstoneproject\\modultiga\\california_housing_price_prediction\\venv\\lib\\site-packages (from matplotlib) (25.0)\n",
      "Requirement already satisfied: pillow>=8 in d:\\purwadhikabackup\\capstoneproject\\modultiga\\california_housing_price_prediction\\venv\\lib\\site-packages (from matplotlib) (11.2.1)\n",
      "Requirement already satisfied: pyparsing>=2.3.1 in d:\\purwadhikabackup\\capstoneproject\\modultiga\\california_housing_price_prediction\\venv\\lib\\site-packages (from matplotlib) (3.2.3)\n",
      "Requirement already satisfied: scipy>=1.6.0 in d:\\purwadhikabackup\\capstoneproject\\modultiga\\california_housing_price_prediction\\venv\\lib\\site-packages (from scikit-learn) (1.15.3)\n",
      "Requirement already satisfied: threadpoolctl>=3.1.0 in d:\\purwadhikabackup\\capstoneproject\\modultiga\\california_housing_price_prediction\\venv\\lib\\site-packages (from scikit-learn) (3.6.0)\n",
      "Requirement already satisfied: six>=1.5 in d:\\purwadhikabackup\\capstoneproject\\modultiga\\california_housing_price_prediction\\venv\\lib\\site-packages (from python-dateutil>=2.8.2->pandas) (1.17.0)\n",
      "Note: you may need to restart the kernel to use updated packages.\n"
     ]
    },
    {
     "name": "stderr",
     "output_type": "stream",
     "text": [
      "\n",
      "[notice] A new release of pip is available: 24.2 -> 25.1.1\n",
      "[notice] To update, run: python.exe -m pip install --upgrade pip\n"
     ]
    }
   ],
   "source": [
    "%pip install pandas numpy matplotlib seaborn scikit-learn xgboost joblib"
   ]
  }
 ],
 "metadata": {
  "kernelspec": {
   "display_name": "venv",
   "language": "python",
   "name": "python3"
  },
  "language_info": {
   "codemirror_mode": {
    "name": "ipython",
    "version": 3
   },
   "file_extension": ".py",
   "mimetype": "text/x-python",
   "name": "python",
   "nbconvert_exporter": "python",
   "pygments_lexer": "ipython3",
   "version": "3.12.7"
  }
 },
 "nbformat": 4,
 "nbformat_minor": 5
}
